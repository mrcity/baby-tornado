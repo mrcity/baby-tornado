{
 "cells": [
  {
   "cell_type": "code",
   "execution_count": 1,
   "metadata": {
    "collapsed": true
   },
   "outputs": [],
   "source": [
    "from tornado.ioloop import IOLoop\n",
    "import sys\n",
    "import tornado.web\n",
    "import tornado.httpserver\n",
    "\n",
    "from tornado.log import enable_pretty_logging\n",
    "enable_pretty_logging()\n",
    "import logging\n",
    "\n",
    "class Handler1(tornado.web.RequestHandler):\n",
    "    @tornado.gen.coroutine\n",
    "    def get(self):\n",
    "        self.write(getFxn1())\n",
    "\n",
    "    def post(self):\n",
    "        self.write(postFxn1())\n",
    "\n",
    "class Handler2(tornado.web.RequestHandler):\n",
    "    @tornado.gen.coroutine\n",
    "    def get(self):\n",
    "        self.write(getFxn2())\n",
    "\n",
    "    def post(self):\n",
    "        self.write(postFxn2())"
   ]
  },
  {
   "cell_type": "code",
   "execution_count": 2,
   "metadata": {
    "collapsed": true
   },
   "outputs": [],
   "source": [
    "def getFxn1():\n",
    "    return \"1 was GET-ten (?!)\\n\"\n",
    "\n",
    "def postFxn1():\n",
    "    return \"1 was POSTed\\n\"\n",
    "\n",
    "def getFxn2():\n",
    "    return \"2 was GET-ten (?!)\\n\"\n",
    "\n",
    "def postFxn2():\n",
    "    return \"2 was POSTed\\n\""
   ]
  },
  {
   "cell_type": "code",
   "execution_count": 3,
   "metadata": {},
   "outputs": [
    {
     "name": "stdout",
     "output_type": "stream",
     "text": [
      "Server is ready\n",
      "304 GET / (172.17.0.1) 2.98ms\n",
      "404 GET /favicon.ico (172.17.0.1) 1.82ms\n",
      "404 GET /wefg (172.17.0.1) 0.68ms\n",
      "200 GET /handler1 (172.17.0.1) 0.39ms\n"
     ]
    }
   ],
   "source": [
    "access_log = logging.getLogger('tornado.access')\n",
    "access_log.propagate = False\n",
    "# make sure access log is enabled even if error level is WARNING|ERROR\n",
    "access_log.setLevel(logging.INFO)\n",
    "stdout_handler = logging.StreamHandler(sys.stdout)\n",
    "access_log.addHandler(stdout_handler)\n",
    "\n",
    "def make_app():\n",
    "    return tornado.web.Application([\n",
    "        (r\"/handler1\", Handler1),\n",
    "        (r\"/handler2\", Handler2),\n",
    "        (r\"/(.*)\", tornado.web.StaticFileHandler, {\"path\": \"dist/\", \"default_filename\": \"index.html\"})\n",
    "    ])\n",
    "\n",
    "def main():\n",
    "    app = make_app()\n",
    "    server = tornado.httpserver.HTTPServer(app)\n",
    "    server.bind(5000)\n",
    "    server.start(1)  # forks one process\n",
    "    access_log.info(\"Server is ready\")\n",
    "    # IOLoop.current().start()   # Don't need this because Jupyter already runs the loop\n",
    "\n",
    "if __name__ == '__main__':\n",
    "    main()\n"
   ]
  },
  {
   "cell_type": "code",
   "execution_count": null,
   "metadata": {
    "collapsed": true
   },
   "outputs": [],
   "source": []
  }
 ],
 "metadata": {
  "kernelspec": {
   "display_name": "Python 2",
   "language": "python",
   "name": "python2"
  },
  "language_info": {
   "codemirror_mode": {
    "name": "ipython",
    "version": 2
   },
   "file_extension": ".py",
   "mimetype": "text/x-python",
   "name": "python",
   "nbconvert_exporter": "python",
   "pygments_lexer": "ipython2",
   "version": "2.7.12"
  }
 },
 "nbformat": 4,
 "nbformat_minor": 2
}
